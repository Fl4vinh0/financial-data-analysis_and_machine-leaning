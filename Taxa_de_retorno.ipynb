{
  "nbformat": 4,
  "nbformat_minor": 0,
  "metadata": {
    "colab": {
      "name": "Taxa de retorno.ipynb",
      "provenance": [],
      "authorship_tag": "ABX9TyNSaO8h9tEBZ9DOOT/Emlnt",
      "include_colab_link": true
    },
    "kernelspec": {
      "name": "python3",
      "display_name": "Python 3"
    },
    "language_info": {
      "name": "python"
    }
  },
  "cells": [
    {
      "cell_type": "markdown",
      "metadata": {
        "id": "view-in-github",
        "colab_type": "text"
      },
      "source": [
        "<a href=\"https://colab.research.google.com/github/Fl4vinh0/financial-data-analysis_and_machine-leaning/blob/main/Taxa_de_retorno.ipynb\" target=\"_parent\"><img src=\"https://colab.research.google.com/assets/colab-badge.svg\" alt=\"Open In Colab\"/></a>"
      ]
    },
    {
      "cell_type": "markdown",
      "source": [
        "# Instalação e atualização das bibliotecas"
      ],
      "metadata": {
        "id": "fMeuZnae0Avh"
      }
    },
    {
      "cell_type": "code",
      "execution_count": null,
      "metadata": {
        "colab": {
          "base_uri": "https://localhost:8080/"
        },
        "id": "DGg-ABlWzWpg",
        "outputId": "9f901bed-164f-4266-c5ad-2037de1463b2"
      },
      "outputs": [
        {
          "output_type": "stream",
          "name": "stdout",
          "text": [
            "Requirement already satisfied: pandas in /usr/local/lib/python3.7/dist-packages (1.3.5)\n",
            "Requirement already satisfied: numpy>=1.17.3 in /usr/local/lib/python3.7/dist-packages (from pandas) (1.21.6)\n",
            "Requirement already satisfied: python-dateutil>=2.7.3 in /usr/local/lib/python3.7/dist-packages (from pandas) (2.8.2)\n",
            "Requirement already satisfied: pytz>=2017.3 in /usr/local/lib/python3.7/dist-packages (from pandas) (2022.1)\n",
            "Requirement already satisfied: six>=1.5 in /usr/local/lib/python3.7/dist-packages (from python-dateutil>=2.7.3->pandas) (1.15.0)\n",
            "Requirement already satisfied: numpy in /usr/local/lib/python3.7/dist-packages (1.21.6)\n",
            "Requirement already satisfied: plotly in /usr/local/lib/python3.7/dist-packages (5.7.0)\n",
            "Requirement already satisfied: tenacity>=6.2.0 in /usr/local/lib/python3.7/dist-packages (from plotly) (8.0.1)\n",
            "Requirement already satisfied: six in /usr/local/lib/python3.7/dist-packages (from plotly) (1.15.0)\n"
          ]
        }
      ],
      "source": [
        "!pip install pandas --upgrade\n",
        "!pip install numpy --upgrade\n",
        "!pip install plotly --upgrade"
      ]
    },
    {
      "cell_type": "markdown",
      "source": [
        "# Importação das bibliotecas e da base de dados"
      ],
      "metadata": {
        "id": "wRUkKBqa0H_Z"
      }
    },
    {
      "cell_type": "code",
      "source": [
        "import pandas as pd\n",
        "import numpy as np\n",
        "import plotly.express as px"
      ],
      "metadata": {
        "id": "uOJUwCeG0KXQ"
      },
      "execution_count": null,
      "outputs": []
    },
    {
      "cell_type": "code",
      "source": [
        "dataset = pd.read_csv('acoes.csv')\n",
        "dataset.shape"
      ],
      "metadata": {
        "colab": {
          "base_uri": "https://localhost:8080/"
        },
        "id": "OEP-Jril0hmh",
        "outputId": "c1dca7f0-7bf6-4dc7-e7d1-247ef77ff05b"
      },
      "execution_count": null,
      "outputs": [
        {
          "output_type": "execute_result",
          "data": {
            "text/plain": [
              "(818, 7)"
            ]
          },
          "metadata": {},
          "execution_count": 4
        }
      ]
    },
    {
      "cell_type": "code",
      "source": [
        "dataset"
      ],
      "metadata": {
        "colab": {
          "base_uri": "https://localhost:8080/",
          "height": 424
        },
        "id": "qKsuDcBU1EQj",
        "outputId": "034124db-bdfb-47fa-fbe2-b49b244fe99f"
      },
      "execution_count": null,
      "outputs": [
        {
          "output_type": "execute_result",
          "data": {
            "text/plain": [
              "           Date        GOL        CVC       WEGE    MAGALU       TOTS  \\\n",
              "0    2019-01-02  25.450001  61.099998   8.990000  5.812187   9.531889   \n",
              "1    2019-01-03  25.629999  60.709999   9.195000  5.750000   9.751472   \n",
              "2    2019-01-04  25.000000  59.950001   9.300000  5.575000  10.020960   \n",
              "3    2019-01-07  23.900000  60.700001   9.155000  5.661562   9.804704   \n",
              "4    2019-01-08  23.590000  58.709999   9.080000  5.615937   9.405462   \n",
              "..          ...        ...        ...        ...       ...        ...   \n",
              "813  2022-04-13  17.000000  14.530000  32.560001  6.030000  36.480000   \n",
              "814  2022-04-14  16.400000  14.360000  32.290001  6.010000  35.000000   \n",
              "815  2022-04-18  15.890000  14.330000  31.910000  5.890000  34.119999   \n",
              "816  2022-04-19  16.410000  14.490000  31.370001  5.940000  36.009998   \n",
              "817  2022-04-20  16.709999  14.460000  31.559999  5.740000  35.189999   \n",
              "\n",
              "       IBOVESPA  \n",
              "0     87.900002  \n",
              "1     88.000000  \n",
              "2     88.500000  \n",
              "3     88.480003  \n",
              "4     88.830002  \n",
              "..          ...  \n",
              "813  112.519997  \n",
              "814  111.650002  \n",
              "815  111.459999  \n",
              "816  110.919998  \n",
              "817  109.860001  \n",
              "\n",
              "[818 rows x 7 columns]"
            ],
            "text/html": [
              "\n",
              "  <div id=\"df-a34531f2-086b-43d1-9b39-e91d4f7c9be3\">\n",
              "    <div class=\"colab-df-container\">\n",
              "      <div>\n",
              "<style scoped>\n",
              "    .dataframe tbody tr th:only-of-type {\n",
              "        vertical-align: middle;\n",
              "    }\n",
              "\n",
              "    .dataframe tbody tr th {\n",
              "        vertical-align: top;\n",
              "    }\n",
              "\n",
              "    .dataframe thead th {\n",
              "        text-align: right;\n",
              "    }\n",
              "</style>\n",
              "<table border=\"1\" class=\"dataframe\">\n",
              "  <thead>\n",
              "    <tr style=\"text-align: right;\">\n",
              "      <th></th>\n",
              "      <th>Date</th>\n",
              "      <th>GOL</th>\n",
              "      <th>CVC</th>\n",
              "      <th>WEGE</th>\n",
              "      <th>MAGALU</th>\n",
              "      <th>TOTS</th>\n",
              "      <th>IBOVESPA</th>\n",
              "    </tr>\n",
              "  </thead>\n",
              "  <tbody>\n",
              "    <tr>\n",
              "      <th>0</th>\n",
              "      <td>2019-01-02</td>\n",
              "      <td>25.450001</td>\n",
              "      <td>61.099998</td>\n",
              "      <td>8.990000</td>\n",
              "      <td>5.812187</td>\n",
              "      <td>9.531889</td>\n",
              "      <td>87.900002</td>\n",
              "    </tr>\n",
              "    <tr>\n",
              "      <th>1</th>\n",
              "      <td>2019-01-03</td>\n",
              "      <td>25.629999</td>\n",
              "      <td>60.709999</td>\n",
              "      <td>9.195000</td>\n",
              "      <td>5.750000</td>\n",
              "      <td>9.751472</td>\n",
              "      <td>88.000000</td>\n",
              "    </tr>\n",
              "    <tr>\n",
              "      <th>2</th>\n",
              "      <td>2019-01-04</td>\n",
              "      <td>25.000000</td>\n",
              "      <td>59.950001</td>\n",
              "      <td>9.300000</td>\n",
              "      <td>5.575000</td>\n",
              "      <td>10.020960</td>\n",
              "      <td>88.500000</td>\n",
              "    </tr>\n",
              "    <tr>\n",
              "      <th>3</th>\n",
              "      <td>2019-01-07</td>\n",
              "      <td>23.900000</td>\n",
              "      <td>60.700001</td>\n",
              "      <td>9.155000</td>\n",
              "      <td>5.661562</td>\n",
              "      <td>9.804704</td>\n",
              "      <td>88.480003</td>\n",
              "    </tr>\n",
              "    <tr>\n",
              "      <th>4</th>\n",
              "      <td>2019-01-08</td>\n",
              "      <td>23.590000</td>\n",
              "      <td>58.709999</td>\n",
              "      <td>9.080000</td>\n",
              "      <td>5.615937</td>\n",
              "      <td>9.405462</td>\n",
              "      <td>88.830002</td>\n",
              "    </tr>\n",
              "    <tr>\n",
              "      <th>...</th>\n",
              "      <td>...</td>\n",
              "      <td>...</td>\n",
              "      <td>...</td>\n",
              "      <td>...</td>\n",
              "      <td>...</td>\n",
              "      <td>...</td>\n",
              "      <td>...</td>\n",
              "    </tr>\n",
              "    <tr>\n",
              "      <th>813</th>\n",
              "      <td>2022-04-13</td>\n",
              "      <td>17.000000</td>\n",
              "      <td>14.530000</td>\n",
              "      <td>32.560001</td>\n",
              "      <td>6.030000</td>\n",
              "      <td>36.480000</td>\n",
              "      <td>112.519997</td>\n",
              "    </tr>\n",
              "    <tr>\n",
              "      <th>814</th>\n",
              "      <td>2022-04-14</td>\n",
              "      <td>16.400000</td>\n",
              "      <td>14.360000</td>\n",
              "      <td>32.290001</td>\n",
              "      <td>6.010000</td>\n",
              "      <td>35.000000</td>\n",
              "      <td>111.650002</td>\n",
              "    </tr>\n",
              "    <tr>\n",
              "      <th>815</th>\n",
              "      <td>2022-04-18</td>\n",
              "      <td>15.890000</td>\n",
              "      <td>14.330000</td>\n",
              "      <td>31.910000</td>\n",
              "      <td>5.890000</td>\n",
              "      <td>34.119999</td>\n",
              "      <td>111.459999</td>\n",
              "    </tr>\n",
              "    <tr>\n",
              "      <th>816</th>\n",
              "      <td>2022-04-19</td>\n",
              "      <td>16.410000</td>\n",
              "      <td>14.490000</td>\n",
              "      <td>31.370001</td>\n",
              "      <td>5.940000</td>\n",
              "      <td>36.009998</td>\n",
              "      <td>110.919998</td>\n",
              "    </tr>\n",
              "    <tr>\n",
              "      <th>817</th>\n",
              "      <td>2022-04-20</td>\n",
              "      <td>16.709999</td>\n",
              "      <td>14.460000</td>\n",
              "      <td>31.559999</td>\n",
              "      <td>5.740000</td>\n",
              "      <td>35.189999</td>\n",
              "      <td>109.860001</td>\n",
              "    </tr>\n",
              "  </tbody>\n",
              "</table>\n",
              "<p>818 rows × 7 columns</p>\n",
              "</div>\n",
              "      <button class=\"colab-df-convert\" onclick=\"convertToInteractive('df-a34531f2-086b-43d1-9b39-e91d4f7c9be3')\"\n",
              "              title=\"Convert this dataframe to an interactive table.\"\n",
              "              style=\"display:none;\">\n",
              "        \n",
              "  <svg xmlns=\"http://www.w3.org/2000/svg\" height=\"24px\"viewBox=\"0 0 24 24\"\n",
              "       width=\"24px\">\n",
              "    <path d=\"M0 0h24v24H0V0z\" fill=\"none\"/>\n",
              "    <path d=\"M18.56 5.44l.94 2.06.94-2.06 2.06-.94-2.06-.94-.94-2.06-.94 2.06-2.06.94zm-11 1L8.5 8.5l.94-2.06 2.06-.94-2.06-.94L8.5 2.5l-.94 2.06-2.06.94zm10 10l.94 2.06.94-2.06 2.06-.94-2.06-.94-.94-2.06-.94 2.06-2.06.94z\"/><path d=\"M17.41 7.96l-1.37-1.37c-.4-.4-.92-.59-1.43-.59-.52 0-1.04.2-1.43.59L10.3 9.45l-7.72 7.72c-.78.78-.78 2.05 0 2.83L4 21.41c.39.39.9.59 1.41.59.51 0 1.02-.2 1.41-.59l7.78-7.78 2.81-2.81c.8-.78.8-2.07 0-2.86zM5.41 20L4 18.59l7.72-7.72 1.47 1.35L5.41 20z\"/>\n",
              "  </svg>\n",
              "      </button>\n",
              "      \n",
              "  <style>\n",
              "    .colab-df-container {\n",
              "      display:flex;\n",
              "      flex-wrap:wrap;\n",
              "      gap: 12px;\n",
              "    }\n",
              "\n",
              "    .colab-df-convert {\n",
              "      background-color: #E8F0FE;\n",
              "      border: none;\n",
              "      border-radius: 50%;\n",
              "      cursor: pointer;\n",
              "      display: none;\n",
              "      fill: #1967D2;\n",
              "      height: 32px;\n",
              "      padding: 0 0 0 0;\n",
              "      width: 32px;\n",
              "    }\n",
              "\n",
              "    .colab-df-convert:hover {\n",
              "      background-color: #E2EBFA;\n",
              "      box-shadow: 0px 1px 2px rgba(60, 64, 67, 0.3), 0px 1px 3px 1px rgba(60, 64, 67, 0.15);\n",
              "      fill: #174EA6;\n",
              "    }\n",
              "\n",
              "    [theme=dark] .colab-df-convert {\n",
              "      background-color: #3B4455;\n",
              "      fill: #D2E3FC;\n",
              "    }\n",
              "\n",
              "    [theme=dark] .colab-df-convert:hover {\n",
              "      background-color: #434B5C;\n",
              "      box-shadow: 0px 1px 3px 1px rgba(0, 0, 0, 0.15);\n",
              "      filter: drop-shadow(0px 1px 2px rgba(0, 0, 0, 0.3));\n",
              "      fill: #FFFFFF;\n",
              "    }\n",
              "  </style>\n",
              "\n",
              "      <script>\n",
              "        const buttonEl =\n",
              "          document.querySelector('#df-a34531f2-086b-43d1-9b39-e91d4f7c9be3 button.colab-df-convert');\n",
              "        buttonEl.style.display =\n",
              "          google.colab.kernel.accessAllowed ? 'block' : 'none';\n",
              "\n",
              "        async function convertToInteractive(key) {\n",
              "          const element = document.querySelector('#df-a34531f2-086b-43d1-9b39-e91d4f7c9be3');\n",
              "          const dataTable =\n",
              "            await google.colab.kernel.invokeFunction('convertToInteractive',\n",
              "                                                     [key], {});\n",
              "          if (!dataTable) return;\n",
              "\n",
              "          const docLinkHtml = 'Like what you see? Visit the ' +\n",
              "            '<a target=\"_blank\" href=https://colab.research.google.com/notebooks/data_table.ipynb>data table notebook</a>'\n",
              "            + ' to learn more about interactive tables.';\n",
              "          element.innerHTML = '';\n",
              "          dataTable['output_type'] = 'display_data';\n",
              "          await google.colab.output.renderOutput(dataTable, element);\n",
              "          const docLink = document.createElement('div');\n",
              "          docLink.innerHTML = docLinkHtml;\n",
              "          element.appendChild(docLink);\n",
              "        }\n",
              "      </script>\n",
              "    </div>\n",
              "  </div>\n",
              "  "
            ]
          },
          "metadata": {},
          "execution_count": 5
        }
      ]
    },
    {
      "cell_type": "code",
      "source": [
        ""
      ],
      "metadata": {
        "id": "OKvBoSo01GRw"
      },
      "execution_count": null,
      "outputs": []
    }
  ]
}